{
 "cells": [
  {
   "cell_type": "code",
   "execution_count": 14,
   "id": "a73f1eb8-09c7-418f-a162-f0b77d8c7e82",
   "metadata": {},
   "outputs": [
    {
     "name": "stdin",
     "output_type": "stream",
     "text": [
      "start the play? (y/n):  y\n",
      "Select r for rock, p for paper, s for scissor:  p\n"
     ]
    },
    {
     "name": "stdout",
     "output_type": "stream",
     "text": [
      "The computer selected r\n",
      "Paper covers rock! you win!\n"
     ]
    },
    {
     "name": "stdin",
     "output_type": "stream",
     "text": [
      "Do you want to play again? (y/n):  y\n",
      "Select r for rock, p for paper, s for scissor:  r\n"
     ]
    },
    {
     "name": "stdout",
     "output_type": "stream",
     "text": [
      "The computer selected p\n",
      "Paper covers rock! you lose!\n"
     ]
    },
    {
     "name": "stdin",
     "output_type": "stream",
     "text": [
      "Do you want to play again? (y/n):  y\n",
      "Select r for rock, p for paper, s for scissor:  p\n"
     ]
    },
    {
     "name": "stdout",
     "output_type": "stream",
     "text": [
      "The computer selected s\n",
      "Scisor cuts Paper! you lose!\n"
     ]
    },
    {
     "name": "stdin",
     "output_type": "stream",
     "text": [
      "Do you want to play again? (y/n):  n\n"
     ]
    },
    {
     "name": "stdout",
     "output_type": "stream",
     "text": [
      "Thanks for playing! See you next time!\n"
     ]
    }
   ],
   "source": [
    "import random  #import random for random number generation\n",
    "def rock_paper_scisor():#the function beigins for the game\n",
    "    while True:  #start an infinite loop\n",
    "            \n",
    "\n",
    "        #Block to determine user selection of rock, paper or scisor\n",
    "        #We ask the user for an input either r, p or s\n",
    "        user_inp = input(\"Select r for rock, p for paper, s for scissor: \")\n",
    "        #if user selects anything other than r, p or s it is invalid response\n",
    "        if user_inp != \"r\" and user_inp != \"p\" and user_inp != \"s\":\n",
    "            print(\"invalid choice!, please select one of these: r,p,s\")\n",
    "            choice1=input(\"Do you want to continue? (y/n): \").lower()\n",
    "            if choice1 == \"y\":\n",
    "                continue\n",
    "            elif choice1 == \"n\":\n",
    "                return\n",
    "            else: #anything other than y or n\n",
    "                print(\"invalid response! exiting the game! See you next time\")\n",
    "                returnsq\n",
    "            \n",
    "\n",
    "        #block to determine computer's response\n",
    "        game_ran_num = random.randint(1, 3) #a number is selected randomly between 1 and 3\n",
    "        if game_ran_num == 1:\n",
    "            game_inp = \"r\"\n",
    "        elif game_ran_num == 2:\n",
    "            game_inp = \"p\"\n",
    "        else: # game_ran_num == 3\n",
    "            game_inp = \"s\"\n",
    "\n",
    "        print(f\"The computer selected {game_inp}\")\n",
    "         \n",
    "        if user_inp == game_inp: #if user and computer selected the same thing\n",
    "            choice2=input(\"we have reached an impass! do you want to go again? (y/n): \").lower()\n",
    "            if choice2 == \"y\":\n",
    "                continue\n",
    "            elif choice2 == \"n\":\n",
    "                print(\"Thanks for playing, see you next time\")\n",
    "                return\n",
    "            else: #anything else\n",
    "                print(\"invalid response! exiting the game! Thanks for playing, See you next time\")\n",
    "                return\n",
    "        \n",
    "        \n",
    "        if user_inp == \"p\": #if user selects p\n",
    "            if game_inp == \"s\": \n",
    "                print(\"Scisor cuts Paper! you lose!\")\n",
    "            else: # game_inp = r\n",
    "                print(\"Paper covers rock! you win!\")            \n",
    "        \n",
    "        elif user_inp == \"r\": #if user selects r\n",
    "            if game_inp == \"p\":\n",
    "                print(\"Paper covers rock! you lose!\")\n",
    "            else: # game_inp = s\n",
    "                print(\"Rock beats scisor! you win!\")\n",
    "                                \n",
    "        else:  # user_inp = s\n",
    "            if game_inp == \"r\":\n",
    "                print(\"Rock beats Scisor! you lose!\")\n",
    "            else: #game_inp = p\n",
    "                print(\"Scisor cuts Paper! you win!\")\n",
    "\n",
    "        #play again option\n",
    "        play_again=input(\"Do you want to play again? (y/n): \").lower()\n",
    "        if play_again == \"n\":\n",
    "            print(\"Thanks for playing! See you next time!\")\n",
    "            return\n",
    "        elif play_again != \"y\":\n",
    "            print(\"Invalid response! Exiting the game! See you next time!\")\n",
    "            return\n",
    "            \n",
    "            \n",
    "                       \n",
    "begin=input(\"start the play? (y/n): \")\n",
    "if begin==\"n\":\n",
    "    print(\"See you next time! have a good day!\")\n",
    "elif begin==\"y\":\n",
    "   choice=rock_paper_scisor()\n",
    "else:\n",
    "    print(\"Invalid response!, please select either 'y' for yes or 'n' for no\") \n",
    "\n",
    "        \n",
    "    "
   ]
  }
 ],
 "metadata": {
  "kernelspec": {
   "display_name": "Python 3 (ipykernel)",
   "language": "python",
   "name": "python3"
  },
  "language_info": {
   "codemirror_mode": {
    "name": "ipython",
    "version": 3
   },
   "file_extension": ".py",
   "mimetype": "text/x-python",
   "name": "python",
   "nbconvert_exporter": "python",
   "pygments_lexer": "ipython3",
   "version": "3.10.12"
  }
 },
 "nbformat": 4,
 "nbformat_minor": 5
}
